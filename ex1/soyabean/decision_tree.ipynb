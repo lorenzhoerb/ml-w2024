{
 "cells": [
  {
   "metadata": {
    "ExecuteTime": {
     "end_time": "2024-11-19T20:39:47.050196Z",
     "start_time": "2024-11-19T20:39:46.958174Z"
    }
   },
   "cell_type": "code",
   "source": [
    "import numpy as np\n",
    "import pandas as pd\n",
    "from scipy.io import arff\n",
    "from sklearn.model_selection import train_test_split, GridSearchCV, StratifiedKFold\n",
    "from sklearn.preprocessing import OrdinalEncoder, LabelEncoder\n",
    "from sklearn.compose import ColumnTransformer\n",
    "from sklearn.pipeline import Pipeline\n",
    "from sklearn.tree import DecisionTreeClassifier\n",
    "from sklearn.impute import SimpleImputer\n",
    "from sklearn.metrics import accuracy_score, classification_report, confusion_matrix\n",
    "import time\n",
    "\n",
    "file_path = \"../../data/soyabean/dataset_42_soybean.arff\"\n",
    "dataset, meta = arff.loadarff(file_path)\n",
    "df = pd.DataFrame(data=dataset)\n",
    "for column in df.select_dtypes([object]):\n",
    "    df[column] = df[column].str.decode('utf-8')\n",
    "\n",
    "\n",
    "# Split data into train and test sets\n",
    "X = df.drop(columns=['class'])\n",
    "y = df['class']\n",
    "\n",
    "# Ensure that the target variable is of type 'category'\n",
    "y = y.astype('category')\n",
    "\n",
    "# Split the data into training and testing sets\n",
    "X_train, X_test, y_train, y_test = train_test_split(X, y, test_size=0.2, shuffle=True)\n"
   ],
   "id": "e1f5ef88173355b4",
   "outputs": [],
   "execution_count": 94
  },
  {
   "metadata": {
    "ExecuteTime": {
     "end_time": "2024-11-19T20:39:48.689386Z",
     "start_time": "2024-11-19T20:39:48.684981Z"
    }
   },
   "cell_type": "code",
   "source": [
    "# Preprocessing\n",
    "preprocessor = ColumnTransformer(\n",
    "    transformers=[\n",
    "        ('cat', Pipeline([\n",
    "            ('imputer', SimpleImputer(strategy='constant', fill_value='missing')),  # Handle missing categorical values\n",
    "            ('encoder', OrdinalEncoder(handle_unknown='use_encoded_value', unknown_value=-1))  # Ordinal encoding\n",
    "        ]), X.columns.tolist())  # Apply to all columns in X\n",
    "    ])\n",
    "\n",
    "pipe = Pipeline([(\"preprocessor\", preprocessor), (\"classifier\", DecisionTreeClassifier())])\n"
   ],
   "id": "ecb7824e5fbf4c2f",
   "outputs": [],
   "execution_count": 95
  },
  {
   "metadata": {
    "ExecuteTime": {
     "end_time": "2024-11-19T20:40:56.840929Z",
     "start_time": "2024-11-19T20:40:55.266506Z"
    }
   },
   "cell_type": "code",
   "source": [
    "# Fitting & Analysis \n",
    "param_grid = {\n",
    "    # Hyperparameters for the classifier\n",
    "    'classifier__max_depth': [3, 5, 10, None],\n",
    "    'classifier__min_samples_leaf': [1, 2, 4],\n",
    "    'classifier__criterion': ['gini', 'entropy'],\n",
    "}\n",
    "\n",
    "\n",
    "grid_search = GridSearchCV(pipe, param_grid, cv=StratifiedKFold(n_splits=2), scoring='accuracy', n_jobs=-1, verbose=1, error_score='raise')\n",
    "\n",
    "# Fit the grid search to the training data\n",
    "grid_search.fit(X_train, y_train)\n",
    "\n",
    "print(f\"Best parameters: {grid_search.best_params_}\")\n",
    "best_model = grid_search.best_estimator_\n",
    "\n",
    "# Make predictions with the best model\n",
    "\n",
    "start_time = time.time()\n",
    "y_pred = best_model.predict(X_test)\n",
    "end_time = time.time()\n",
    "\n",
    "# Calculate time in milliseconds\n",
    "prediction_time_ms = (end_time - start_time) * 1000\n",
    "\n",
    "# Print prediction time\n",
    "print(f\"Prediction Time: {prediction_time_ms:.2f} ms\")\n",
    "\n",
    "\n",
    "# Calculate and print the accuracy\n",
    "accuracy = accuracy_score(y_test, y_pred)\n",
    "print(f\"Best Model Accuracy: {accuracy:.2f}\")\n",
    "\n",
    "# best cross-validation score\n",
    "best_cv_score = grid_search.best_score_\n",
    "print(f\"Best Cross-validation accuracy: {best_cv_score:.2f}\")\n",
    "\n",
    "print(classification_report(y_test, y_pred))"
   ],
   "id": "65193bd88d3140fc",
   "outputs": [
    {
     "name": "stdout",
     "output_type": "stream",
     "text": [
      "Fitting 2 folds for each of 24 candidates, totalling 48 fits\n",
      "Best parameters: {'classifier__criterion': 'entropy', 'classifier__max_depth': None, 'classifier__min_samples_leaf': 1}\n",
      "Prediction Time: 2.37 ms\n",
      "Best Model Accuracy: 0.93\n",
      "Best Cross-validation accuracy: 0.91\n",
      "                             precision    recall  f1-score   support\n",
      "\n",
      "               2-4-d-injury       1.00      1.00      1.00         5\n",
      "        alternarialeaf-spot       0.80      0.71      0.75        17\n",
      "                anthracnose       1.00      1.00      1.00         8\n",
      "           bacterial-blight       1.00      1.00      1.00         2\n",
      "          bacterial-pustule       1.00      1.00      1.00         2\n",
      "                 brown-spot       1.00      1.00      1.00        18\n",
      "             brown-stem-rot       1.00      1.00      1.00         9\n",
      "               charcoal-rot       1.00      1.00      1.00         3\n",
      "              cyst-nematode       1.00      1.00      1.00         2\n",
      "diaporthe-pod-&-stem-blight       1.00      1.00      1.00         3\n",
      "      diaporthe-stem-canker       1.00      1.00      1.00         5\n",
      "               downy-mildew       1.00      1.00      1.00         8\n",
      "         frog-eye-leaf-spot       0.81      0.88      0.85        25\n",
      "           herbicide-injury       1.00      1.00      1.00         1\n",
      "     phyllosticta-leaf-spot       1.00      1.00      1.00         2\n",
      "           phytophthora-rot       1.00      1.00      1.00        18\n",
      "             powdery-mildew       1.00      0.67      0.80         3\n",
      "          purple-seed-stain       0.86      1.00      0.92         6\n",
      "\n",
      "                   accuracy                           0.93       137\n",
      "                  macro avg       0.97      0.96      0.96       137\n",
      "               weighted avg       0.94      0.93      0.93       137\n",
      "\n"
     ]
    }
   ],
   "execution_count": 96
  }
 ],
 "metadata": {
  "kernelspec": {
   "display_name": "Python 3",
   "language": "python",
   "name": "python3"
  },
  "language_info": {
   "codemirror_mode": {
    "name": "ipython",
    "version": 2
   },
   "file_extension": ".py",
   "mimetype": "text/x-python",
   "name": "python",
   "nbconvert_exporter": "python",
   "pygments_lexer": "ipython2",
   "version": "2.7.6"
  }
 },
 "nbformat": 4,
 "nbformat_minor": 5
}
