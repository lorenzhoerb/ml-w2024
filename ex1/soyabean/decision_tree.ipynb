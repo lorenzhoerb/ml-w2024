{
 "cells": [
  {
   "metadata": {
    "ExecuteTime": {
     "end_time": "2024-11-18T20:10:31.841486Z",
     "start_time": "2024-11-18T20:10:30.818518Z"
    }
   },
   "cell_type": "code",
   "source": [
    "import numpy as np\n",
    "import pandas as pd\n",
    "from scipy.io import arff\n",
    "from sklearn.model_selection import train_test_split\n",
    "from sklearn.preprocessing import OrdinalEncoder, LabelEncoder\n",
    "from sklearn.compose import ColumnTransformer\n",
    "from sklearn.pipeline import Pipeline\n",
    "from sklearn.tree import DecisionTreeClassifier\n",
    "from sklearn.impute import SimpleImputer\n",
    "from sklearn.metrics import accuracy_score"
   ],
   "id": "222b1f72e821f5b7",
   "outputs": [],
   "execution_count": 2
  },
  {
   "metadata": {
    "ExecuteTime": {
     "end_time": "2024-11-18T20:10:31.885569Z",
     "start_time": "2024-11-18T20:10:31.859566Z"
    }
   },
   "cell_type": "code",
   "source": [
    "#sample(10) Load Data\n",
    "file_path = \"../../data/soyabean/dataset_42_soybean.arff\"\n",
    "dataset, meta = arff.loadarff(file_path)\n",
    "df = pd.DataFrame(data=dataset)\n",
    "df = df.apply(lambda col: col.map(lambda x: x.decode('ascii') if isinstance(x, bytes) else x))\n"
   ],
   "id": "e1f5ef88173355b4",
   "outputs": [],
   "execution_count": 3
  },
  {
   "metadata": {
    "ExecuteTime": {
     "end_time": "2024-11-18T20:13:25.038599Z",
     "start_time": "2024-11-18T20:13:25.032506Z"
    }
   },
   "cell_type": "code",
   "source": [
    "count_rows_with_question_mark = (df == '?').any(axis=1).sum()\n",
    "print(count_rows_with_question_mark)\n",
    "121/683\n"
   ],
   "id": "661dc8dcd0ab5969",
   "outputs": [
    {
     "name": "stdout",
     "output_type": "stream",
     "text": [
      "121\n"
     ]
    },
    {
     "data": {
      "text/plain": [
       "0.17715959004392387"
      ]
     },
     "execution_count": 15,
     "metadata": {},
     "output_type": "execute_result"
    }
   ],
   "execution_count": 15
  },
  {
   "metadata": {},
   "cell_type": "markdown",
   "source": "",
   "id": "b6206d602c3c7c5f"
  },
  {
   "metadata": {
    "ExecuteTime": {
     "end_time": "2024-11-11T14:15:52.383650Z",
     "start_time": "2024-11-11T14:15:52.376487Z"
    }
   },
   "cell_type": "code",
   "source": [
    "# Split data into train and test sets\n",
    "X = df.drop(columns=['class'])\n",
    "y = df['class']\n",
    "\n",
    "# Ensure that the target variable is of type 'category'\n",
    "y = y.astype('category')\n",
    "\n",
    "# Convert categorical target variable into integers using LabelEncoder\n",
    "label_encoder = LabelEncoder()\n",
    "y = label_encoder.fit_transform(y)\n",
    "\n",
    "# Split the data into training and testing sets\n",
    "X_train, X_test, y_train, y_test = train_test_split(X, y, test_size=0.2, shuffle=False)"
   ],
   "id": "d84cc09cca51f9fc",
   "outputs": [],
   "execution_count": 173
  },
  {
   "metadata": {
    "ExecuteTime": {
     "end_time": "2024-11-11T14:16:34.436214Z",
     "start_time": "2024-11-11T14:16:34.431886Z"
    }
   },
   "cell_type": "code",
   "source": [
    "# Column transformer for preprocessing (only OrdinalEncoder for categorical features)\n",
    "preprocessor = ColumnTransformer(\n",
    "    transformers=[\n",
    "        ('cat', Pipeline([\n",
    "            ('imputer', SimpleImputer(strategy='constant', fill_value='missing')),  # Handle missing categorical values\n",
    "            ('encoder', OrdinalEncoder(handle_unknown='use_encoded_value', unknown_value=-1))  # Ordinal encoding\n",
    "        ]), X.columns.tolist())  # Apply to all columns in X\n",
    "    ])"
   ],
   "id": "ecb7824e5fbf4c2f",
   "outputs": [],
   "execution_count": 176
  },
  {
   "metadata": {
    "ExecuteTime": {
     "end_time": "2024-11-11T14:16:35.576921Z",
     "start_time": "2024-11-11T14:16:35.560595Z"
    }
   },
   "cell_type": "code",
   "source": [
    "pipe = Pipeline([(\"preprocessor\", preprocessor), (\"classifier\", DecisionTreeClassifier())])\n",
    "pipe.fit(X_train, y_train)\n",
    "y_pred = pipe.predict(X_test)"
   ],
   "id": "85e59d8f3084856b",
   "outputs": [],
   "execution_count": 177
  },
  {
   "metadata": {
    "ExecuteTime": {
     "end_time": "2024-11-11T14:16:36.984883Z",
     "start_time": "2024-11-11T14:16:36.981899Z"
    }
   },
   "cell_type": "code",
   "source": [
    "accuracy = accuracy_score(y_test, y_pred)\n",
    "print(f\"Accuracy: {accuracy:.4f}\")"
   ],
   "id": "bcfffd67a55e53bb",
   "outputs": [
    {
     "name": "stdout",
     "output_type": "stream",
     "text": [
      "Accuracy: 0.8467\n"
     ]
    }
   ],
   "execution_count": 178
  },
  {
   "metadata": {
    "ExecuteTime": {
     "end_time": "2024-11-11T14:16:38.397784Z",
     "start_time": "2024-11-11T14:16:38.395387Z"
    }
   },
   "cell_type": "code",
   "source": "# label_encoder.inverse_transform(y_pred)",
   "id": "fc767b817bb37133",
   "outputs": [],
   "execution_count": 179
  }
 ],
 "metadata": {
  "kernelspec": {
   "display_name": "Python 3",
   "language": "python",
   "name": "python3"
  },
  "language_info": {
   "codemirror_mode": {
    "name": "ipython",
    "version": 2
   },
   "file_extension": ".py",
   "mimetype": "text/x-python",
   "name": "python",
   "nbconvert_exporter": "python",
   "pygments_lexer": "ipython2",
   "version": "2.7.6"
  }
 },
 "nbformat": 4,
 "nbformat_minor": 5
}
