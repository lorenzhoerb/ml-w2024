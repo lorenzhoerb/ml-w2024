{
 "cells": [
  {
   "metadata": {
    "collapsed": true,
    "ExecuteTime": {
     "end_time": "2024-12-04T15:52:09.744201Z",
     "start_time": "2024-12-04T15:52:09.740101Z"
    }
   },
   "cell_type": "code",
   "source": [
    "import matplotlib.pyplot as plt\n",
    "import numpy as np\n",
    "import pandas as pd\n",
    "\n",
    "\n",
    "def RSS(r, X):\n",
    "    return ((r - X) ** 2).sum()\n",
    "\n",
    "\n",
    "# generate demo data\n",
    "X_df = pd.Series(np.random.randint(0, 10, 40))\n",
    "y_df = 5 * X_df + 5\n",
    "\n",
    "# convert to numpy arrays\n",
    "X = X_df.to_numpy()\n",
    "y = y_df.to_numpy()\n",
    "\n",
    "# sort data based on X\n",
    "sort_index = np.argsort(X)\n",
    "X = X[sort_index]\n",
    "y = y[sort_index]"
   ],
   "id": "initial_id",
   "outputs": [],
   "execution_count": 136
  },
  {
   "metadata": {
    "ExecuteTime": {
     "end_time": "2024-12-04T15:52:09.828598Z",
     "start_time": "2024-12-04T15:52:09.753477Z"
    }
   },
   "cell_type": "code",
   "source": [
    "# concept rss\n",
    "c_threshold = 4.5\n",
    "\n",
    "c_low = np.take(y, np.where(X < c_threshold))\n",
    "c_high = np.take(y, np.where(X >= c_threshold))\n",
    "\n",
    "c_pred_low = c_low.mean()\n",
    "c_pred_high = c_high.mean()\n",
    "\n",
    "c_rss = RSS(c_pred_low, c_low) + RSS(c_pred_high, c_high)\n",
    "\n",
    "# Plot the transformed data\n",
    "plt.figure(figsize=(8, 6))\n",
    "plt.scatter(X, y, color='blue', label='Data Points')\n",
    "plt.axvline(c_threshold, color='red', linestyle='--')\n",
    "plt.axhline(c_pred_low, xmin=0, xmax=c_threshold / max(X), color='green', linestyle='--')\n",
    "plt.axhline(c_pred_high, xmin=c_threshold / max(X), xmax=max(X), color='orange', linestyle='--')\n",
    "\n",
    "# Add labels and title\n",
    "plt.xlabel('X Values')\n",
    "plt.ylabel('Y Values')\n",
    "plt.title('Scatter Plot of X vs Y')\n",
    "plt.legend()\n",
    "\n",
    "# Show the plot\n",
    "plt.grid(True)\n",
    "plt.show()"
   ],
   "id": "f626b3071b5335f3",
   "outputs": [
    {
     "data": {
      "text/plain": [
       "<Figure size 800x600 with 1 Axes>"
      ],
      "image/png": "[encoded data removed]"
     },
     "metadata": {},
     "output_type": "display_data"
    }
   ],
   "execution_count": 137
  },
  {
   "metadata": {
    "ExecuteTime": {
     "end_time": "2024-12-04T15:52:09.836823Z",
     "start_time": "2024-12-04T15:52:09.833852Z"
    }
   },
   "cell_type": "code",
   "source": [
    "# concept rss\n",
    "def calculate_rss(X_data, y_data, threshold):\n",
    "    # get y values where x < threshold\n",
    "    low = np.take(y_data, np.where(X_data < threshold))\n",
    "    # get y values where x >= threshold\n",
    "    high = np.take(y_data, np.where(X_data >= threshold))\n",
    "\n",
    "    pred_low = low.mean() if len(low[0]) > 0 else 0\n",
    "    pred_high = high.mean() if len(high[0]) > 0 else 0\n",
    "\n",
    "    return RSS(pred_low, low) + RSS(pred_high, high)"
   ],
   "id": "aff236a935277432",
   "outputs": [],
   "execution_count": 138
  },
  {
   "metadata": {
    "ExecuteTime": {
     "end_time": "2024-12-04T15:52:09.878180Z",
     "start_time": "2024-12-04T15:52:09.873802Z"
    }
   },
   "cell_type": "code",
   "source": [
    "def find_best_split(X_data, y_data):\n",
    "    # Generate pairs of adjacent elements\n",
    "    best_split = None\n",
    "    min_rss = float('inf')  # Initialize the minimum RSS with a very large number\n",
    "\n",
    "    for i in range(len(X_data) - 1):\n",
    "        threshold = X_data[i:i + 2].mean()  # Calculate the threshold as the mean of x1 and x2\n",
    "        print(f\"Calculating RSS with threshold: {threshold}\")\n",
    "\n",
    "        rss = calculate_rss(X_data, y_data, threshold)  # Calculate RSS for the threshold\n",
    "\n",
    "        # If this RSS is smaller than the current minimum, update the best_split\n",
    "        if rss < min_rss:\n",
    "            min_rss = rss\n",
    "            best_split = (threshold, rss)\n",
    "\n",
    "    # Print the best split with the minimum RSS\n",
    "    print(f\"Best split found at threshold: {best_split[0]} with RSS: {best_split[1]}\")\n",
    "\n",
    "\n",
    "find_best_split(X, y)"
   ],
   "id": "eb4362df5cb26fcf",
   "outputs": [
    {
     "name": "stdout",
     "output_type": "stream",
     "text": [
      "Calculating RSS with threshold: 0.0\n",
      "0\n",
      "Calculating RSS with threshold: 0.0\n",
      "0\n",
      "Calculating RSS with threshold: 0.5\n",
      "3\n",
      "Calculating RSS with threshold: 1.0\n",
      "3\n",
      "Calculating RSS with threshold: 1.0\n",
      "3\n",
      "Calculating RSS with threshold: 1.0\n",
      "3\n",
      "Calculating RSS with threshold: 1.0\n",
      "3\n",
      "Calculating RSS with threshold: 1.5\n",
      "8\n",
      "Calculating RSS with threshold: 2.0\n",
      "8\n",
      "Calculating RSS with threshold: 2.0\n",
      "8\n",
      "Calculating RSS with threshold: 2.0\n",
      "8\n",
      "Calculating RSS with threshold: 2.5\n",
      "12\n",
      "Calculating RSS with threshold: 3.0\n",
      "12\n",
      "Calculating RSS with threshold: 3.0\n",
      "12\n",
      "Calculating RSS with threshold: 3.5\n",
      "15\n",
      "Calculating RSS with threshold: 4.0\n",
      "15\n",
      "Calculating RSS with threshold: 4.0\n",
      "15\n",
      "Calculating RSS with threshold: 4.0\n",
      "15\n",
      "Calculating RSS with threshold: 4.5\n",
      "19\n",
      "Calculating RSS with threshold: 5.0\n",
      "19\n",
      "Calculating RSS with threshold: 5.0\n",
      "19\n",
      "Calculating RSS with threshold: 5.5\n",
      "22\n",
      "Calculating RSS with threshold: 6.0\n",
      "22\n",
      "Calculating RSS with threshold: 6.0\n",
      "22\n",
      "Calculating RSS with threshold: 6.5\n",
      "25\n",
      "Calculating RSS with threshold: 7.0\n",
      "25\n",
      "Calculating RSS with threshold: 7.0\n",
      "25\n",
      "Calculating RSS with threshold: 7.0\n",
      "25\n",
      "Calculating RSS with threshold: 7.0\n",
      "25\n",
      "Calculating RSS with threshold: 7.0\n",
      "25\n",
      "Calculating RSS with threshold: 7.0\n",
      "25\n",
      "Calculating RSS with threshold: 7.5\n",
      "32\n",
      "Calculating RSS with threshold: 8.0\n",
      "32\n",
      "Calculating RSS with threshold: 8.0\n",
      "32\n",
      "Calculating RSS with threshold: 8.0\n",
      "32\n",
      "Calculating RSS with threshold: 8.5\n",
      "36\n",
      "Calculating RSS with threshold: 9.0\n",
      "36\n",
      "Calculating RSS with threshold: 9.0\n",
      "36\n",
      "Calculating RSS with threshold: 9.0\n",
      "36\n",
      "Best split found at threshold: 4.5 with RSS: 1764.2857142857142\n"
     ]
    }
   ],
   "execution_count": 139
  }
 ],
 "metadata": {
  "kernelspec": {
   "display_name": "Python 3",
   "language": "python",
   "name": "python3"
  },
  "language_info": {
   "codemirror_mode": {
    "name": "ipython",
    "version": 2
   },
   "file_extension": ".py",
   "mimetype": "text/x-python",
   "name": "python",
   "nbconvert_exporter": "python",
   "pygments_lexer": "ipython2",
   "version": "2.7.6"
  }
 },
 "nbformat": 4,
 "nbformat_minor": 5
}
