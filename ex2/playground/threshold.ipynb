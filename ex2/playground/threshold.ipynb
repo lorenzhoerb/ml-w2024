{
 "cells": [
  {
   "metadata": {
    "collapsed": true,
    "ExecuteTime": {
     "end_time": "2024-12-08T21:40:33.355305Z",
     "start_time": "2024-12-08T21:40:33.351378Z"
    }
   },
   "cell_type": "code",
   "source": [
    "import matplotlib.pyplot as plt\n",
    "import numpy as np\n",
    "import pandas as pd\n",
    "\n",
    "\n",
    "def RSS(r, X):\n",
    "    return ((r - X) ** 2).sum()\n",
    "\n",
    "\n",
    "# generate demo data\n",
    "X_df = pd.Series(np.random.randint(0, 10, 40))\n",
    "y_df = 5 * X_df + 5\n",
    "\n",
    "# convert to numpy arrays\n",
    "X = X_df.to_numpy()\n",
    "y = y_df.to_numpy()\n",
    "\n",
    "# sort data based on X\n",
    "sort_index = np.argsort(X)\n",
    "X = X[sort_index]\n",
    "y = y[sort_index]"
   ],
   "id": "initial_id",
   "outputs": [],
   "execution_count": 3
  },
  {
   "metadata": {
    "ExecuteTime": {
     "end_time": "2024-12-08T20:31:32.063295Z",
     "start_time": "2024-12-08T20:31:31.986381Z"
    }
   },
   "cell_type": "code",
   "source": [
    "# concept rss\n",
    "c_threshold = 4.5\n",
    "\n",
    "c_low = np.take(y, np.where(X < c_threshold))\n",
    "c_high = np.take(y, np.where(X >= c_threshold))\n",
    "\n",
    "c_pred_low = c_low.mean()\n",
    "c_pred_high = c_high.mean()\n",
    "\n",
    "c_rss = RSS(c_pred_low, c_low) + RSS(c_pred_high, c_high)\n",
    "\n",
    "# Plot the transformed data\n",
    "plt.figure(figsize=(8, 6))\n",
    "plt.scatter(X, y, color='blue', label='Data Points')\n",
    "plt.axvline(c_threshold, color='red', linestyle='--')\n",
    "plt.axhline(c_pred_low, xmin=0, xmax=c_threshold / max(X), color='green', linestyle='--')\n",
    "plt.axhline(c_pred_high, xmin=c_threshold / max(X), xmax=max(X), color='orange', linestyle='--')\n",
    "\n",
    "# Add labels and title\n",
    "plt.xlabel('X Values')\n",
    "plt.ylabel('Y Values')\n",
    "plt.title('Scatter Plot of X vs Y')\n",
    "plt.legend()\n",
    "\n",
    "# Show the plot\n",
    "plt.grid(True)\n",
    "plt.show()"
   ],
   "id": "f626b3071b5335f3",
   "outputs": [
    {
     "data": {
      "text/plain": [
       "<Figure size 800x600 with 1 Axes>"
      ],
      "image/png": "[encoded data removed]"
     },
     "metadata": {},
     "output_type": "display_data"
    }
   ],
   "execution_count": 2
  },
  {
   "metadata": {
    "ExecuteTime": {
     "end_time": "2024-12-08T20:31:32.116791Z",
     "start_time": "2024-12-08T20:31:32.114857Z"
    }
   },
   "cell_type": "code",
   "source": [
    "# concept rss\n",
    "def calculate_rss(X_data, y_data, threshold):\n",
    "    # get y values where x < threshold\n",
    "    low = np.take(y_data, np.where(X_data < threshold))\n",
    "    # get y values where x >= threshold\n",
    "    high = np.take(y_data, np.where(X_data >= threshold))\n",
    "\n",
    "    pred_low = low.mean() if len(low[0]) > 0 else 0\n",
    "    pred_high = high.mean() if len(high[0]) > 0 else 0\n",
    "\n",
    "    return RSS(pred_low, low) + RSS(pred_high, high)"
   ],
   "id": "aff236a935277432",
   "outputs": [],
   "execution_count": 3
  },
  {
   "metadata": {
    "ExecuteTime": {
     "end_time": "2024-12-08T20:31:32.124832Z",
     "start_time": "2024-12-08T20:31:32.122165Z"
    }
   },
   "cell_type": "code",
   "source": [
    "def find_best_split(X_data, y_data):\n",
    "    # Generate pairs of adjacent elements\n",
    "    best_split = None\n",
    "    min_rss = float('inf')  # Initialize the minimum RSS with a very large number\n",
    "\n",
    "    for i in range(len(X_data) - 1):\n",
    "        threshold = X_data[i:i + 2].mean()  # Calculate the threshold as the mean of x1 and x2\n",
    "        print(f\"Calculating RSS with threshold: {threshold}\")\n",
    "\n",
    "        rss = calculate_rss(X_data, y_data, threshold)  # Calculate RSS for the threshold\n",
    "\n",
    "        # If this RSS is smaller than the current minimum, update the best_split\n",
    "        if rss < min_rss:\n",
    "            min_rss = rss\n",
    "            best_split = (threshold, rss)\n",
    "\n",
    "    return best_split\n",
    "\n",
    "\n",
    "t, rs = find_best_split(X, y)\n",
    "print(t)\n",
    "print(rs)"
   ],
   "id": "eb4362df5cb26fcf",
   "outputs": [
    {
     "name": "stdout",
     "output_type": "stream",
     "text": [
      "Calculating RSS with threshold: 0.5\n",
      "0.5\n",
      "4957.692307692308\n"
     ]
    }
   ],
   "execution_count": 4
  },
  {
   "metadata": {
    "ExecuteTime": {
     "end_time": "2024-12-08T21:17:09.828286Z",
     "start_time": "2024-12-08T21:17:09.821907Z"
    }
   },
   "cell_type": "code",
   "source": [
    "class Tree:\n",
    "    def __init__(self, min_nodes=2, max_depth=5):\n",
    "        self.root = None\n",
    "        self.min_nodes = min_nodes\n",
    "        self.max_depth = max_depth\n",
    "\n",
    "    def create(self, X, y, depth):\n",
    "        # if split criteria is reached make node to leaf node and set its avg value\n",
    "        if len(X) < self.min_nodes or depth >= self.max_depth:\n",
    "            return Node(value=np.mean(y))\n",
    "\n",
    "        # find the best splits for every feature\n",
    "        best_splits = [find_best_split(x_feature, y) for x_feature in X]\n",
    "        # index of the feature with the min rss (rss i the second value of the tuple \n",
    "        best_feature_index = np.argmin([split[1] for split in best_splits])\n",
    "        threshold = best_splits[best_feature_index][0]\n",
    "\n",
    "        left_tree = self.create(X, y, depth + 1)\n",
    "        right_tree = self.create(X, y, depth + 1)\n",
    "        return Node(left=left_tree, right=right_tree, threshold=threshold, feature_index=best_feature_index)\n",
    "\n",
    "    def split(self, X, y):\n",
    "        pass\n",
    "\n",
    "\n",
    "class Node:\n",
    "    def __init__(self, threshold=None, value=None, left=None, right=None, feature_index=None):\n",
    "        self.threshold = threshold\n",
    "        self.value = value\n",
    "        self.left = left\n",
    "        self.right = right\n",
    "        self.feature_index = feature_index\n",
    "\n",
    "    def is_leaf(self):\n",
    "        return self.value is not None"
   ],
   "id": "eecb1e65a40e7fc",
   "outputs": [],
   "execution_count": 17
  },
  {
   "metadata": {
    "ExecuteTime": {
     "end_time": "2024-12-08T21:58:23.877690Z",
     "start_time": "2024-12-08T21:58:23.874299Z"
    }
   },
   "cell_type": "code",
   "outputs": [],
   "execution_count": 25,
   "source": [
    "import numpy as np\n",
    "\n",
    "# Example 2D array\n",
    "X = np.array([[1, 2, 3, 5],\n",
    "              [4, 5, 6, 5],\n",
    "              [7, 8, 9, 5]])\n",
    "# Example 2D array\n",
    "Y = np.array([1, 2, 3])\n",
    "\n",
    "instances, num_features = X.shape\n",
    "\n",
    "feature_index = 0\n",
    "thresh = 2\n",
    "x_feature = X[:, feature_index]\n",
    "\n",
    "\n",
    "def split(x, y, threshold):\n",
    "    mask_left = x <= threshold\n",
    "    mask_right = x > threshold\n",
    "\n",
    "    x_left = x[mask_left]\n",
    "    y_left = y[mask_left]\n",
    "\n",
    "    x_right = x[mask_right]\n",
    "    y_right = y[mask_right]\n",
    "   \n",
    "    return x_left, y_left, x_right, y_right"
   ],
   "id": "8f0d9b52efdd5e96"
  },
  {
   "metadata": {
    "ExecuteTime": {
     "end_time": "2024-12-09T08:44:31.705172Z",
     "start_time": "2024-12-09T08:44:31.698203Z"
    }
   },
   "cell_type": "code",
   "source": [
    "import numpy as np\n",
    "\n",
    "# Example 2D array\n",
    "X = np.array([[1, 2, 3, 5],\n",
    "              [4, 5, 6, 5],\n",
    "              [7, 8, 9, 5]])\n",
    "\n",
    "[x**2 for x in X.T]\n",
    "\n",
    "y = np.array([(1,10), (1, 10), (2, 20), (3, 30)])\n",
    "v = np.argmin(y[:,1])\n",
    "y[v]"
   ],
   "id": "12deb4e85806243a",
   "outputs": [
    {
     "data": {
      "text/plain": [
       "array([ 1, 10])"
      ]
     },
     "execution_count": 10,
     "metadata": {},
     "output_type": "execute_result"
    }
   ],
   "execution_count": 10
  }
 ],
 "metadata": {
  "kernelspec": {
   "display_name": "Python 3",
   "language": "python",
   "name": "python3"
  },
  "language_info": {
   "codemirror_mode": {
    "name": "ipython",
    "version": 2
   },
   "file_extension": ".py",
   "mimetype": "text/x-python",
   "name": "python",
   "nbconvert_exporter": "python",
   "pygments_lexer": "ipython2",
   "version": "2.7.6"
  }
 },
 "nbformat": 4,
 "nbformat_minor": 5
}
