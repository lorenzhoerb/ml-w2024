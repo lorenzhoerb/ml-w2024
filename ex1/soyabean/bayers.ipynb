{
 "cells": [
  {
   "metadata": {
    "collapsed": true,
    "ExecuteTime": {
     "end_time": "2024-11-26T08:12:06.628829Z",
     "start_time": "2024-11-26T08:12:03.193222Z"
    }
   },
   "cell_type": "code",
   "source": [
    "import numpy as np\n",
    "import pandas as pd\n",
    "from scipy.io import arff\n",
    "from sklearn.model_selection import train_test_split, GridSearchCV, cross_val_score\n",
    "from sklearn.preprocessing import OrdinalEncoder, StandardScaler, MinMaxScaler\n",
    "from sklearn.compose import ColumnTransformer\n",
    "from sklearn.pipeline import Pipeline\n",
    "from sklearn.impute import SimpleImputer\n",
    "from sklearn.metrics import accuracy_score, precision_score, recall_score, f1_score, confusion_matrix, classification_report\n",
    "from sklearn.naive_bayes import CategoricalNB\n",
    "import time\n",
    "\n",
    "# Load Data\n",
    "file_path = \"../../data/soyabean/dataset_42_soybean.arff\"\n",
    "dataset, meta = arff.loadarff(file_path)\n",
    "df = pd.DataFrame(data=dataset)\n",
    "\n",
    "# Convert all byte columns to strings\n",
    "for column in df.select_dtypes([object]):\n",
    "    df[column] = df[column].str.decode('utf-8')\n",
    "\n",
    "df = df.replace('?', np.nan)\n",
    "\n",
    "# Split data into train and test sets\n",
    "X = df.drop(columns=['class'])\n",
    "y = df['class']\n",
    "\n",
    "X_train, X_test, y_train, y_test = train_test_split(X, y, test_size=0.2, random_state=42)\n"
   ],
   "id": "initial_id",
   "outputs": [],
   "execution_count": 1
  },
  {
   "metadata": {
    "ExecuteTime": {
     "end_time": "2024-11-26T08:12:19.262689Z",
     "start_time": "2024-11-26T08:12:19.259141Z"
    }
   },
   "cell_type": "code",
   "source": [
    "# Preprocessing\n",
    "preprocessor = ColumnTransformer(\n",
    "    transformers=[\n",
    "        ('cat', Pipeline(steps=[\n",
    "            ('imputer', SimpleImputer(strategy='most_frequent')),\n",
    "            ('encoder', OrdinalEncoder())\n",
    "        ]), X.columns.tolist())\n",
    "    ]\n",
    ")\n",
    "\n",
    "pipeline = Pipeline(steps=[\n",
    "    ('preprocessor', preprocessor),\n",
    "    ('classifier', CategoricalNB())\n",
    "])"
   ],
   "id": "87e003fc404f81af",
   "outputs": [],
   "execution_count": 5
  },
  {
   "metadata": {
    "ExecuteTime": {
     "end_time": "2024-11-26T08:12:22.876395Z",
     "start_time": "2024-11-26T08:12:20.497704Z"
    }
   },
   "cell_type": "code",
   "source": [
    "param_grid = {\n",
    "    'preprocessor__cat__imputer__strategy': ['constant', 'most_frequent'],\n",
    "    'preprocessor__cat__imputer__fill_value': ['missing'],  \n",
    "    \n",
    "    'classifier__alpha': [0.01, 0.1, 1.0, 10.0],\n",
    "    'classifier__fit_prior': [True, False],\n",
    "    'classifier__min_categories': [None, 2, 5, 10, 15]\n",
    "}\n",
    "\n",
    "# Set up GridSearchCV with cross-validation\n",
    "grid_search = GridSearchCV(pipeline, param_grid, cv=5, scoring='accuracy', n_jobs=-1, verbose=1, error_score='raise')\n",
    "\n",
    "# Fit grid search to the training data\n",
    "grid_search.fit(X_train, y_train)\n",
    "\n",
    "# Get the best parameters and model\n",
    "print(f\"Best parameters: {grid_search.best_params_}\")\n",
    "best_model = grid_search.best_estimator_\n",
    "\n",
    "# Make predictions with the best model\n",
    "start_time = time.time()\n",
    "\n",
    "y_pred = best_model.predict(X_test)\n",
    "end_time = time.time()\n",
    "prediction_time_ms = (end_time - start_time) * 1000\n",
    "\n",
    "# Print prediction time\n",
    "print(f\"Prediction Time: {prediction_time_ms:.2f} ms\")\n",
    "\n",
    "\n",
    "# Calculate and print the accuracy\n",
    "accuracy = accuracy_score(y_test, y_pred)\n",
    "print(f\"Best Model Accuracy: {accuracy:.2f}\")\n",
    "\n",
    "# best cross-validation score\n",
    "best_cv_score = grid_search.best_score_\n",
    "print(f\"Best Cross-validation accuracy: {best_cv_score:.2f}\")\n",
    "\n",
    "print(classification_report(y_test, y_pred))"
   ],
   "id": "3968b3435f416a4a",
   "outputs": [
    {
     "name": "stdout",
     "output_type": "stream",
     "text": [
      "Fitting 5 folds for each of 80 candidates, totalling 400 fits\n",
      "Best parameters: {'classifier__alpha': 0.01, 'classifier__fit_prior': True, 'classifier__min_categories': None, 'preprocessor__cat__imputer__fill_value': 'missing', 'preprocessor__cat__imputer__strategy': 'most_frequent'}\n",
      "Prediction Time: 2.80 ms\n",
      "Best Model Accuracy: 0.96\n",
      "Best Cross-validation accuracy: 0.94\n",
      "                             precision    recall  f1-score   support\n",
      "\n",
      "               2-4-d-injury       1.00      1.00      1.00         5\n",
      "        alternarialeaf-spot       0.85      0.94      0.89        18\n",
      "                anthracnose       1.00      1.00      1.00        10\n",
      "           bacterial-blight       1.00      1.00      1.00         4\n",
      "          bacterial-pustule       1.00      1.00      1.00         6\n",
      "                 brown-spot       0.93      1.00      0.97        14\n",
      "             brown-stem-rot       1.00      1.00      1.00        10\n",
      "               charcoal-rot       1.00      1.00      1.00         4\n",
      "              cyst-nematode       1.00      1.00      1.00         2\n",
      "diaporthe-pod-&-stem-blight       0.83      1.00      0.91         5\n",
      "      diaporthe-stem-canker       1.00      1.00      1.00         4\n",
      "               downy-mildew       1.00      1.00      1.00         4\n",
      "         frog-eye-leaf-spot       1.00      0.73      0.85        15\n",
      "           herbicide-injury       1.00      1.00      1.00         3\n",
      "     phyllosticta-leaf-spot       1.00      1.00      1.00         2\n",
      "           phytophthora-rot       1.00      1.00      1.00        22\n",
      "             powdery-mildew       1.00      1.00      1.00         2\n",
      "          purple-seed-stain       1.00      1.00      1.00         2\n",
      "       rhizoctonia-root-rot       1.00      1.00      1.00         5\n",
      "\n",
      "                   accuracy                           0.96       137\n",
      "                  macro avg       0.98      0.98      0.98       137\n",
      "               weighted avg       0.97      0.96      0.96       137\n",
      "\n"
     ]
    }
   ],
   "execution_count": 6
  }
 ],
 "metadata": {
  "kernelspec": {
   "display_name": "Python 3",
   "language": "python",
   "name": "python3"
  },
  "language_info": {
   "codemirror_mode": {
    "name": "ipython",
    "version": 2
   },
   "file_extension": ".py",
   "mimetype": "text/x-python",
   "name": "python",
   "nbconvert_exporter": "python",
   "pygments_lexer": "ipython2",
   "version": "2.7.6"
  }
 },
 "nbformat": 4,
 "nbformat_minor": 5
}
