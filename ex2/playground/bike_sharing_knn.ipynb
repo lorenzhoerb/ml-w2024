{
 "cells": [
  {
   "cell_type": "code",
   "id": "initial_id",
   "metadata": {
    "collapsed": true,
    "ExecuteTime": {
     "end_time": "2024-12-15T10:44:14.513858Z",
     "start_time": "2024-12-15T10:44:14.502463Z"
    }
   },
   "source": [
    "import pandas as pd\n",
    "from sklearn.model_selection import train_test_split\n",
    "from sklearn.neighbors import KNeighborsRegressor\n",
    "from sklearn.metrics import mean_squared_error, r2_score\n",
    "\n",
    "data = pd.read_csv(\"../../data/bike_sharing/day.csv\")\n",
    "\n",
    "# split\n",
    "X = data.iloc[:, 2:-3].values  # exclude instant, casual, and registered\n",
    "Y = data.iloc[:, -1].values.reshape(-1, 1)\n",
    "X_train, X_test, Y_train, Y_test = train_test_split(X, Y, test_size=0.2, random_state=0)"
   ],
   "outputs": [],
   "execution_count": 8
  },
  {
   "metadata": {
    "ExecuteTime": {
     "end_time": "2024-12-15T10:48:50.823463Z",
     "start_time": "2024-12-15T10:48:50.816614Z"
    }
   },
   "cell_type": "code",
   "source": [
    "# train KNN regressor\n",
    "regressor = KNeighborsRegressor(n_neighbors=5, weights='distance')\n",
    "regressor.fit(X_train, Y_train)\n",
    "\n",
    "# predict on test data\n",
    "Y_pred = regressor.predict(X_test)\n",
    "\n",
    "# Evaluate the model\n",
    "mse = mean_squared_error(Y_test, Y_pred)\n",
    "r2 = r2_score(Y_test, Y_pred)\n",
    "\n",
    "print(f'Mean Squared Error: {mse}')\n",
    "print(f'R-squared: {r2}')\n",
    "print(\"Actual | Predicted\")\n",
    "print(\"--------------------\")\n",
    "for i in range(10):\n",
    "    print(Y_test[i], \"|\", Y_pred[i])\n",
    "    i += 1"
   ],
   "id": "5f77f75e0422c7de",
   "outputs": [
    {
     "name": "stdout",
     "output_type": "stream",
     "text": [
      "Mean Squared Error: 868985.0987444852\n",
      "R-squared: 0.7956840072255914\n",
      "Actual | Predicted\n",
      "--------------------\n",
      "[5923] | [5024.79912909]\n",
      "[4592] | [4651.90075122]\n",
      "[1248] | [1005.05447846]\n",
      "[1360] | [1535.48091438]\n",
      "[4075] | [3771.28550093]\n",
      "[1817] | [1940.10764194]\n",
      "[2659] | [3577.93384742]\n",
      "[6234] | [4395.64444136]\n",
      "[6857] | [6948.16480358]\n",
      "[1167] | [1797.08045917]\n"
     ]
    }
   ],
   "execution_count": 10
  }
 ],
 "metadata": {
  "kernelspec": {
   "display_name": "Python 3",
   "language": "python",
   "name": "python3"
  },
  "language_info": {
   "codemirror_mode": {
    "name": "ipython",
    "version": 2
   },
   "file_extension": ".py",
   "mimetype": "text/x-python",
   "name": "python",
   "nbconvert_exporter": "python",
   "pygments_lexer": "ipython2",
   "version": "2.7.6"
  }
 },
 "nbformat": 4,
 "nbformat_minor": 5
}
