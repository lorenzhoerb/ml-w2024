{
 "cells": [
  {
   "cell_type": "code",
   "id": "initial_id",
   "metadata": {
    "collapsed": true,
    "ExecuteTime": {
     "end_time": "2024-11-14T19:04:25.427294Z",
     "start_time": "2024-11-14T19:04:25.387774Z"
    }
   },
   "source": [
    "import pandas as pd\n",
    "import numpy as np\n",
    "from scipy.io import arff\n",
    "from sklearn.model_selection import train_test_split\n",
    "from sklearn.preprocessing import OrdinalEncoder, LabelEncoder\n",
    "from sklearn.compose import ColumnTransformer\n",
    "from sklearn.pipeline import Pipeline\n",
    "from sklearn.tree import DecisionTreeClassifier\n",
    "from sklearn.impute import SimpleImputer\n",
    "from sklearn.metrics import accuracy_score\n",
    "\n",
    "# Load Data\n",
    "file_path = \"../../data/soyabean/dataset_42_soybean.arff\"\n",
    "dataset, meta = arff.loadarff(file_path)\n",
    "df = pd.DataFrame(data=dataset)\n",
    "\n",
    "# Convert all byte columns to strings\n",
    "for column in df.select_dtypes([object]):\n",
    "    df[column] = df[column].str.decode('utf-8')\n",
    "\n",
    "# Split data into train and test sets\n",
    "X = df.drop(columns=['class'])\n",
    "y = df['class']\n",
    "\n",
    "X = X.replace('?', np.nan)\n",
    "\n",
    "# Ensure that the target variable is of type 'category'\n",
    "y = y.astype('category')\n",
    "\n",
    "\n",
    "# Convert categorical target variable into integers using LabelEncoder\n",
    "label_encoder = LabelEncoder()\n",
    "y = label_encoder.fit_transform(y)\n",
    "\n",
    "# Split the data into training and testing sets\n",
    "X_train, X_test, y_train, y_test = train_test_split(X, y, test_size=0.2, shuffle=False)\n",
    "\n",
    "# Column transformer for preprocessing (only OrdinalEncoder for categorical features)\n",
    "preprocessor = ColumnTransformer(\n",
    "    transformers=[\n",
    "        ('cat', Pipeline([\n",
    "            ('imputer', SimpleImputer(strategy='constant', fill_value='missing')),  # Handle missing categorical values\n",
    "            ('encoder', OrdinalEncoder(handle_unknown='use_encoded_value', unknown_value=-1))  # Ordinal encoding\n",
    "        ]), X.columns.tolist())  # Apply to all columns in X\n",
    "    ])\n",
    "\n",
    "# Apply the column transformer to the data\n",
    "pipe = Pipeline([(\"preprocessor\", preprocessor), (\"classifier\", DecisionTreeClassifier())])\n",
    "\n",
    "# Fit the pipeline to training data\n",
    "pipe.fit(X_train, y_train)\n",
    "\n",
    "# Predict on test data\n",
    "y_pred = pipe.predict(X_test)\n",
    "\n",
    "# Evaluate accuracy\n",
    "accuracy = accuracy_score(y_test, y_pred)\n",
    "print(f\"Accuracy: {accuracy:.4f}\")"
   ],
   "outputs": [
    {
     "name": "stdout",
     "output_type": "stream",
     "text": [
      "Accuracy: 0.8467\n"
     ]
    }
   ],
   "execution_count": 37
  },
  {
   "metadata": {},
   "cell_type": "code",
   "outputs": [],
   "execution_count": null,
   "source": "",
   "id": "747acb3f8908a4bb"
  },
  {
   "metadata": {
    "ExecuteTime": {
     "end_time": "2024-11-14T19:02:55.787685Z",
     "start_time": "2024-11-14T19:02:55.781602Z"
    }
   },
   "cell_type": "code",
   "source": [
    "y_pred_original = label_encoder.inverse_transform(y_pred)\n",
    "y_pred_original"
   ],
   "id": "7f173607c54ea86b",
   "outputs": [
    {
     "data": {
      "text/plain": [
       "array([b'alternarialeaf-spot', b'alternarialeaf-spot',\n",
       "       b'frog-eye-leaf-spot', b'alternarialeaf-spot',\n",
       "       b'alternarialeaf-spot', b'alternarialeaf-spot',\n",
       "       b'alternarialeaf-spot', b'frog-eye-leaf-spot',\n",
       "       b'frog-eye-leaf-spot', b'frog-eye-leaf-spot',\n",
       "       b'alternarialeaf-spot', b'alternarialeaf-spot',\n",
       "       b'alternarialeaf-spot', b'frog-eye-leaf-spot',\n",
       "       b'alternarialeaf-spot', b'alternarialeaf-spot',\n",
       "       b'alternarialeaf-spot', b'alternarialeaf-spot',\n",
       "       b'alternarialeaf-spot', b'frog-eye-leaf-spot',\n",
       "       b'alternarialeaf-spot', b'alternarialeaf-spot',\n",
       "       b'alternarialeaf-spot', b'alternarialeaf-spot',\n",
       "       b'alternarialeaf-spot', b'alternarialeaf-spot',\n",
       "       b'alternarialeaf-spot', b'alternarialeaf-spot',\n",
       "       b'alternarialeaf-spot', b'alternarialeaf-spot',\n",
       "       b'alternarialeaf-spot', b'frog-eye-leaf-spot',\n",
       "       b'alternarialeaf-spot', b'alternarialeaf-spot',\n",
       "       b'alternarialeaf-spot', b'alternarialeaf-spot',\n",
       "       b'frog-eye-leaf-spot', b'alternarialeaf-spot',\n",
       "       b'alternarialeaf-spot', b'alternarialeaf-spot',\n",
       "       b'alternarialeaf-spot', b'alternarialeaf-spot',\n",
       "       b'alternarialeaf-spot', b'alternarialeaf-spot',\n",
       "       b'alternarialeaf-spot', b'alternarialeaf-spot',\n",
       "       b'alternarialeaf-spot', b'alternarialeaf-spot',\n",
       "       b'alternarialeaf-spot', b'alternarialeaf-spot',\n",
       "       b'frog-eye-leaf-spot', b'frog-eye-leaf-spot',\n",
       "       b'frog-eye-leaf-spot', b'frog-eye-leaf-spot',\n",
       "       b'alternarialeaf-spot', b'frog-eye-leaf-spot',\n",
       "       b'alternarialeaf-spot', b'brown-spot', b'alternarialeaf-spot',\n",
       "       b'brown-spot', b'alternarialeaf-spot', b'brown-stem-rot',\n",
       "       b'brown-spot', b'brown-spot', b'brown-spot',\n",
       "       b'alternarialeaf-spot', b'frog-eye-leaf-spot', b'brown-spot',\n",
       "       b'frog-eye-leaf-spot', b'frog-eye-leaf-spot',\n",
       "       b'frog-eye-leaf-spot', b'frog-eye-leaf-spot',\n",
       "       b'frog-eye-leaf-spot', b'frog-eye-leaf-spot',\n",
       "       b'frog-eye-leaf-spot', b'frog-eye-leaf-spot',\n",
       "       b'frog-eye-leaf-spot', b'frog-eye-leaf-spot',\n",
       "       b'frog-eye-leaf-spot', b'frog-eye-leaf-spot',\n",
       "       b'frog-eye-leaf-spot', b'frog-eye-leaf-spot',\n",
       "       b'frog-eye-leaf-spot', b'frog-eye-leaf-spot',\n",
       "       b'frog-eye-leaf-spot', b'frog-eye-leaf-spot',\n",
       "       b'frog-eye-leaf-spot', b'frog-eye-leaf-spot',\n",
       "       b'frog-eye-leaf-spot', b'frog-eye-leaf-spot',\n",
       "       b'frog-eye-leaf-spot', b'frog-eye-leaf-spot',\n",
       "       b'frog-eye-leaf-spot', b'frog-eye-leaf-spot',\n",
       "       b'frog-eye-leaf-spot', b'frog-eye-leaf-spot',\n",
       "       b'frog-eye-leaf-spot', b'frog-eye-leaf-spot',\n",
       "       b'frog-eye-leaf-spot', b'frog-eye-leaf-spot',\n",
       "       b'frog-eye-leaf-spot', b'diaporthe-pod-&-stem-blight',\n",
       "       b'diaporthe-pod-&-stem-blight', b'diaporthe-pod-&-stem-blight',\n",
       "       b'diaporthe-pod-&-stem-blight', b'diaporthe-pod-&-stem-blight',\n",
       "       b'diaporthe-pod-&-stem-blight', b'diaporthe-pod-&-stem-blight',\n",
       "       b'diaporthe-pod-&-stem-blight', b'diaporthe-pod-&-stem-blight',\n",
       "       b'cyst-nematode', b'cyst-nematode', b'cyst-nematode',\n",
       "       b'cyst-nematode', b'cyst-nematode', b'cyst-nematode',\n",
       "       b'cyst-nematode', b'cyst-nematode', b'2-4-d-injury',\n",
       "       b'2-4-d-injury', b'2-4-d-injury', b'2-4-d-injury', b'2-4-d-injury',\n",
       "       b'2-4-d-injury', b'2-4-d-injury', b'2-4-d-injury', b'2-4-d-injury',\n",
       "       b'2-4-d-injury', b'2-4-d-injury', b'2-4-d-injury', b'2-4-d-injury',\n",
       "       b'2-4-d-injury', b'2-4-d-injury', b'herbicide-injury',\n",
       "       b'herbicide-injury', b'herbicide-injury', b'herbicide-injury'],\n",
       "      dtype=object)"
      ]
     },
     "execution_count": 9,
     "metadata": {},
     "output_type": "execute_result"
    }
   ],
   "execution_count": 9
  }
 ],
 "metadata": {
  "kernelspec": {
   "display_name": "Python 3",
   "language": "python",
   "name": "python3"
  },
  "language_info": {
   "codemirror_mode": {
    "name": "ipython",
    "version": 2
   },
   "file_extension": ".py",
   "mimetype": "text/x-python",
   "name": "python",
   "nbconvert_exporter": "python",
   "pygments_lexer": "ipython2",
   "version": "2.7.6"
  }
 },
 "nbformat": 4,
 "nbformat_minor": 5
}
