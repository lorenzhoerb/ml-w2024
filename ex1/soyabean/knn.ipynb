{
 "cells": [
  {
   "metadata": {
    "ExecuteTime": {
     "end_time": "2024-11-19T20:43:59.170302Z",
     "start_time": "2024-11-19T20:43:59.117591Z"
    }
   },
   "cell_type": "code",
   "source": [
    "import numpy as np\n",
    "import pandas as pd\n",
    "from scipy.io import arff\n",
    "from sklearn.model_selection import train_test_split, GridSearchCV, cross_val_score\n",
    "from sklearn.preprocessing import OrdinalEncoder, StandardScaler, MinMaxScaler, Normalizer, MaxAbsScaler, RobustScaler\n",
    "from sklearn.compose import ColumnTransformer\n",
    "from sklearn.pipeline import Pipeline\n",
    "from sklearn.impute import SimpleImputer\n",
    "from sklearn.metrics import accuracy_score, precision_score, recall_score, f1_score, confusion_matrix, classification_report\n",
    "from sklearn.neighbors import KNeighborsClassifier\n",
    "import time\n",
    "\n",
    "\n",
    "# Load Data\n",
    "file_path = \"../../data/soyabean/dataset_42_soybean.arff\"\n",
    "dataset, meta = arff.loadarff(file_path)\n",
    "df = pd.DataFrame(data=dataset)\n",
    "\n",
    "# Convert all byte columns to strings\n",
    "for column in df.select_dtypes([object]):\n",
    "    df[column] = df[column].str.decode('utf-8')\n",
    "\n",
    "df = df.replace('?', np.nan)\n",
    "\n",
    "# Split data into train and test sets\n",
    "X = df.drop(columns=['class'])\n",
    "y = df['class']\n",
    "\n",
    "# Ensure that the target variable is of type 'category'\n",
    "\n",
    "X_train, X_test, y_train, y_test = train_test_split(X, y, test_size=0.2, random_state=1)\n"
   ],
   "id": "fef206f59a5b017a",
   "outputs": [],
   "execution_count": 107
  },
  {
   "metadata": {
    "ExecuteTime": {
     "end_time": "2024-11-19T20:44:00.597229Z",
     "start_time": "2024-11-19T20:44:00.594735Z"
    }
   },
   "cell_type": "code",
   "source": [
    "# Preprocessing\n",
    "pipeline = Pipeline([\n",
    "    ('imputer', SimpleImputer()),  # Impute missing values with the most frequent value\n",
    "    (\"ordinal\", OrdinalEncoder(handle_unknown='use_encoded_value', unknown_value=-1)),\n",
    "    (\"scaler\", StandardScaler()),\n",
    "    ('classifier', KNeighborsClassifier())  # DecisionTreeClassifier\n",
    "])"
   ],
   "id": "441ea8d25926b62b",
   "outputs": [],
   "execution_count": 108
  },
  {
   "metadata": {
    "ExecuteTime": {
     "end_time": "2024-11-19T20:44:03.204992Z",
     "start_time": "2024-11-19T20:44:02.169081Z"
    }
   },
   "cell_type": "code",
   "source": [
    "param_grid = {\n",
    "    'imputer__strategy': ['most_frequent', 'constant'], \n",
    "    'imputer__fill_value': ['missing'],\n",
    "    'scaler': [StandardScaler(), MinMaxScaler(), RobustScaler(), MaxAbsScaler()],\n",
    "    'classifier__n_neighbors': [3, 5, 7, 9, 11, 13, 15], \n",
    "    'classifier__weights': ['distance'], \n",
    "    'classifier__metric': ['euclidean', 'manhattan'],\n",
    "}\n",
    "\n",
    "# Set up GridSearchCV with cross-validation\n",
    "grid_search = GridSearchCV(pipeline, param_grid, cv=5, scoring='f1_macro', n_jobs=-1, verbose=1)\n",
    "\n",
    "# Fit grid search to the training data\n",
    "grid_search.fit(X_train, y_train)\n",
    "\n",
    "# Get the best parameters and model\n",
    "print(f\"Best parameters: {grid_search.best_params_}\")\n",
    "best_model = grid_search.best_estimator_\n",
    "\n",
    "# Make predictions with the best model\n",
    "start_time = time.time()\n",
    "y_pred = best_model.predict(X_test)\n",
    "end_time = time.time()\n",
    "\n",
    "# Calculate time in milliseconds\n",
    "prediction_time_ms = (end_time - start_time) * 1000\n",
    "\n",
    "# Print prediction time\n",
    "print(f\"Prediction Time: {prediction_time_ms:.2f} ms\")\n",
    "\n",
    "# Calculate and print the accuracy\n",
    "accuracy = accuracy_score(y_test, y_pred)\n",
    "print(f\"Best Model Accuracy: {accuracy:.2f}\")\n",
    "\n",
    "# best cross-validation score\n",
    "best_cv_score = grid_search.best_score_\n",
    "print(f\"Best Cross-validation accuracy: {best_cv_score:.2f}\")\n",
    "\n",
    "print(classification_report(y_test, y_pred))"
   ],
   "id": "661ae7e552ddaf53",
   "outputs": [
    {
     "name": "stdout",
     "output_type": "stream",
     "text": [
      "Fitting 5 folds for each of 112 candidates, totalling 560 fits\n",
      "Best parameters: {'classifier__metric': 'manhattan', 'classifier__n_neighbors': 3, 'classifier__weights': 'distance', 'imputer__fill_value': 'missing', 'imputer__strategy': 'most_frequent', 'scaler': RobustScaler()}\n",
      "Prediction Time: 3.10 ms\n",
      "Best Model Accuracy: 0.93\n",
      "Best Cross-validation accuracy: 0.94\n",
      "                             precision    recall  f1-score   support\n",
      "\n",
      "               2-4-d-injury       1.00      1.00      1.00         2\n",
      "        alternarialeaf-spot       0.74      1.00      0.85        14\n",
      "                anthracnose       1.00      1.00      1.00         8\n",
      "           bacterial-blight       0.75      1.00      0.86         3\n",
      "          bacterial-pustule       1.00      0.67      0.80         3\n",
      "                 brown-spot       0.90      0.95      0.92        19\n",
      "             brown-stem-rot       1.00      1.00      1.00         8\n",
      "               charcoal-rot       1.00      1.00      1.00         5\n",
      "              cyst-nematode       1.00      1.00      1.00         3\n",
      "diaporthe-pod-&-stem-blight       1.00      1.00      1.00         4\n",
      "      diaporthe-stem-canker       1.00      1.00      1.00         3\n",
      "               downy-mildew       1.00      1.00      1.00         4\n",
      "         frog-eye-leaf-spot       0.90      0.56      0.69        16\n",
      "           herbicide-injury       1.00      1.00      1.00         2\n",
      "     phyllosticta-leaf-spot       0.80      0.80      0.80         5\n",
      "           phytophthora-rot       1.00      1.00      1.00        28\n",
      "             powdery-mildew       1.00      1.00      1.00         3\n",
      "          purple-seed-stain       1.00      1.00      1.00         3\n",
      "       rhizoctonia-root-rot       1.00      1.00      1.00         4\n",
      "\n",
      "                   accuracy                           0.93       137\n",
      "                  macro avg       0.95      0.95      0.94       137\n",
      "               weighted avg       0.93      0.93      0.92       137\n",
      "\n"
     ]
    }
   ],
   "execution_count": 109
  }
 ],
 "metadata": {
  "kernelspec": {
   "display_name": "Python 3",
   "language": "python",
   "name": "python3"
  },
  "language_info": {
   "codemirror_mode": {
    "name": "ipython",
    "version": 2
   },
   "file_extension": ".py",
   "mimetype": "text/x-python",
   "name": "python",
   "nbconvert_exporter": "python",
   "pygments_lexer": "ipython2",
   "version": "2.7.6"
  }
 },
 "nbformat": 4,
 "nbformat_minor": 5
}
