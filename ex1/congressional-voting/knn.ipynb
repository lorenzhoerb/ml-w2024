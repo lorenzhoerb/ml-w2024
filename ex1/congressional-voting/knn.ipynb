{
 "cells": [
  {
   "cell_type": "code",
   "execution_count": null,
   "id": "initial_id",
   "metadata": {
    "collapsed": true
   },
   "outputs": [],
   "source": [
    "import pandas as pd\n",
    "from sklearn.neighbors import KNeighborsClassifier\n",
    "\n",
    "pd.set_option(\"display.max_columns\", None)\n",
    "pd.set_option('future.no_silent_downcasting', True) # could cause errors in future pandas versions\n",
    "\n",
    "# training dataset\n",
    "df_lrn = pd.read_csv(\"/kaggle/input/congressionalvoting/CongressionalVotingID.shuf.lrn.csv\")\n",
    "# convert votes from string to int\n",
    "toReplace = [\"y\", \"n\", \"unknown\"]\n",
    "values = [1, -1, 0]\n",
    "df_lrn.replace(toReplace, values, inplace=True)\n",
    "# train knn\n",
    "knn = KNeighborsClassifier(n_neighbors=3)\n",
    "xColumn = df_lrn.columns[2:]\n",
    "yColumn = [\"class\"]\n",
    "knn.fit(df_lrn[xColumn], df_lrn[yColumn].values.ravel())\n",
    "\n",
    "# test dataset\n",
    "df_test = pd.read_csv(\"/kaggle/input/congressionalvoting/CongressionalVotingID.shuf.tes.csv\")\n",
    "# convert votes from string to int\n",
    "df_test.replace(toReplace, values, inplace=True)\n",
    "# predict test dataset\n",
    "predict = knn.predict(df_test[df_test.columns[1:]])\n",
    "# output to csv\n",
    "predict_dict = {\"ID\": df_test[\"ID\"],\n",
    "                \"class\" : predict}\n",
    "predict_df = pd.DataFrame(predict_dict)\n",
    "predict_df.to_csv(\"CongressionalVotingID.tes.predict.csv\", index=False)"
   ]
  }
 ],
 "metadata": {
  "kernelspec": {
   "display_name": "Python 3",
   "language": "python",
   "name": "python3"
  },
  "language_info": {
   "codemirror_mode": {
    "name": "ipython",
    "version": 2
   },
   "file_extension": ".py",
   "mimetype": "text/x-python",
   "name": "python",
   "nbconvert_exporter": "python",
   "pygments_lexer": "ipython2",
   "version": "2.7.6"
  }
 },
 "nbformat": 4,
 "nbformat_minor": 5
}
