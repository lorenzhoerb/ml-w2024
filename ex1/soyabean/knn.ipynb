{
 "cells": [
  {
   "metadata": {
    "ExecuteTime": {
     "end_time": "2024-11-18T20:28:10.359019Z",
     "start_time": "2024-11-18T20:28:10.309409Z"
    }
   },
   "cell_type": "code",
   "source": [
    "import numpy as np\n",
    "import pandas as pd\n",
    "from scipy.io import arff\n",
    "from sklearn.model_selection import train_test_split, GridSearchCV\n",
    "from sklearn.preprocessing import OrdinalEncoder, StandardScaler, MinMaxScaler\n",
    "from sklearn.compose import ColumnTransformer\n",
    "from sklearn.pipeline import Pipeline\n",
    "from sklearn.tree import DecisionTreeClassifier\n",
    "from sklearn.impute import SimpleImputer\n",
    "from sklearn.metrics import accuracy_score, precision_score, recall_score, f1_score, confusion_matrix, classification_report\n",
    "from sklearn.neighbors import KNeighborsClassifier\n",
    "\n",
    "# Load Data\n",
    "file_path = \"../../data/soyabean/dataset_42_soybean.arff\"\n",
    "dataset, meta = arff.loadarff(file_path)\n",
    "df = pd.DataFrame(data=dataset)\n",
    "\n",
    "# Convert all byte columns to strings\n",
    "for column in df.select_dtypes([object]):\n",
    "    df[column] = df[column].str.decode('utf-8')\n",
    "\n",
    "df = df.replace('?', np.nan)\n",
    "\n",
    "# Split data into train and test sets\n",
    "X = df.drop(columns=['class'])\n",
    "y = df['class']\n",
    "\n",
    "# Ensure that the target variable is of type 'category'\n",
    "\n",
    "X_train, X_test, y_train, y_test = train_test_split(X, y, test_size=0.2, random_state=42)\n"
   ],
   "id": "fef206f59a5b017a",
   "outputs": [],
   "execution_count": 10
  },
  {
   "metadata": {
    "ExecuteTime": {
     "end_time": "2024-11-18T20:44:07.401139Z",
     "start_time": "2024-11-18T20:44:07.367834Z"
    }
   },
   "cell_type": "code",
   "source": [
    "\n",
    "categorical_features = X.select_dtypes(include=['object']).columns\n",
    "numeric_features = X_train.select_dtypes(include=['int64', 'float64']).columns\n",
    "\n",
    "preprocessor = ColumnTransformer(\n",
    "    transformers=[\n",
    "        ('num', SimpleImputer(strategy='mean'), numeric_features),\n",
    "        ('cat', Pipeline(steps=[\n",
    "            ('imputer', SimpleImputer(strategy='most_frequent')),\n",
    "            ('encoder', OrdinalEncoder())\n",
    "        ]), categorical_features)\n",
    "    ],\n",
    "    remainder='passthrough'\n",
    ")\n",
    "\n",
    "knn_pipeline = Pipeline(steps=[\n",
    "    ('preprocessor', preprocessor),\n",
    "    ('scaler', StandardScaler()),  # Standardizing features is helpful for KNN\n",
    "    ('classifier', KNeighborsClassifier(n_neighbors=5))\n",
    "])\n",
    "\n",
    "# Train the KNN model\n",
    "knn_pipeline.fit(X_train, y_train)\n",
    "\n",
    "# Make predictions\n",
    "y_pred = knn_pipeline.predict(X_test)\n",
    "\n",
    "# Calculate and print the accuracy\n",
    "accuracy = accuracy_score(y_test, y_pred)\n",
    "print(f\"KNN Classifier Accuracy: {accuracy:.2f}\")\n"
   ],
   "id": "441ea8d25926b62b",
   "outputs": [
    {
     "name": "stdout",
     "output_type": "stream",
     "text": [
      "KNN Classifier Accuracy: 0.91\n"
     ]
    }
   ],
   "execution_count": 18
  },
  {
   "metadata": {
    "ExecuteTime": {
     "end_time": "2024-11-18T20:28:20.651207Z",
     "start_time": "2024-11-18T20:28:19.615587Z"
    }
   },
   "cell_type": "code",
   "source": [
    "param_grid = {\n",
    "    'preprocessor__cat__imputer__strategy': ['most_frequent', 'constant'],  # Imputer strategies\n",
    "    'scaler': [StandardScaler(), MinMaxScaler()],  # Different scalers\n",
    "    'classifier__n_neighbors': [3, 5, 7, 9, 11, 13, 15],  # Number of neighbors\n",
    "    'classifier__weights': ['distance'],  # Weight function\n",
    "    'classifier__metric': ['euclidean', 'manhattan'],  # Distance metrics\n",
    "    'classifier__p': [1, 2]  # Power parameter for Minkowski distance\n",
    "}\n",
    "\n",
    "# Set up GridSearchCV with cross-validation\n",
    "grid_search = GridSearchCV(knn_pipeline, param_grid, cv=5, scoring='accuracy', n_jobs=-1, verbose=1)\n",
    "\n",
    "# Fit grid search to the training data\n",
    "grid_search.fit(X_train, y_train)\n",
    "\n",
    "# Print the best parameters and best cross-validation score\n",
    "print(\"Best Parameters:\", grid_search.best_params_)\n",
    "print(\"Best Cross-Validation Accuracy:\", grid_search.best_score_)\n",
    "# Evaluate the model with best parameters on the test set\n",
    "y_pred = grid_search.best_estimator_.predict(X_test)\n",
    "\n",
    "test_accuracy = accuracy_score(y_test, y_pred)\n",
    "test_precision = precision_score(y_test, y_pred, average=\"macro\")\n",
    "recall = recall_score(y_test, y_pred, average=\"macro\")\n",
    "f1 = f1_score(y_test, y_pred, average=\"macro\")\n",
    "conf_matrix = confusion_matrix(y_test, y_pred)\n",
    "print(f\"Test Accuracy: {test_accuracy:.2f}\")\n",
    "print(grid_search.best_params_)\n"
   ],
   "id": "661ae7e552ddaf53",
   "outputs": [
    {
     "name": "stdout",
     "output_type": "stream",
     "text": [
      "Fitting 5 folds for each of 112 candidates, totalling 560 fits\n",
      "Best Parameters: {'classifier__metric': 'manhattan', 'classifier__n_neighbors': 3, 'classifier__p': 1, 'classifier__weights': 'distance', 'preprocessor__cat__imputer__strategy': 'most_frequent', 'scaler': MinMaxScaler()}\n",
      "Best Cross-Validation Accuracy: 0.9029190992493745\n",
      "Test Accuracy: 0.91\n",
      "{'classifier__metric': 'manhattan', 'classifier__n_neighbors': 3, 'classifier__p': 1, 'classifier__weights': 'distance', 'preprocessor__cat__imputer__strategy': 'most_frequent', 'scaler': MinMaxScaler()}\n"
     ]
    }
   ],
   "execution_count": 15
  },
  {
   "metadata": {
    "ExecuteTime": {
     "end_time": "2024-11-18T20:28:07.646963Z",
     "start_time": "2024-11-18T20:28:07.644237Z"
    }
   },
   "cell_type": "code",
   "source": "y_pred",
   "id": "961d9e3ecf96004f",
   "outputs": [
    {
     "data": {
      "text/plain": [
       "array(['diaporthe-pod-&-stem-blight', 'brown-spot', 'alternarialeaf-spot',\n",
       "       'brown-spot', '2-4-d-injury', 'phytophthora-rot',\n",
       "       'phytophthora-rot', 'bacterial-blight', 'rhizoctonia-root-rot',\n",
       "       'frog-eye-leaf-spot', 'charcoal-rot', 'anthracnose',\n",
       "       'alternarialeaf-spot', 'purple-seed-stain', 'frog-eye-leaf-spot',\n",
       "       'alternarialeaf-spot', 'powdery-mildew', 'phytophthora-rot',\n",
       "       'brown-stem-rot', 'anthracnose', 'brown-spot',\n",
       "       'diaporthe-pod-&-stem-blight', 'phytophthora-rot',\n",
       "       'diaporthe-pod-&-stem-blight', 'diaporthe-stem-canker',\n",
       "       'frog-eye-leaf-spot', 'frog-eye-leaf-spot', 'alternarialeaf-spot',\n",
       "       'brown-spot', 'brown-spot', 'rhizoctonia-root-rot',\n",
       "       'bacterial-pustule', 'herbicide-injury', 'phytophthora-rot',\n",
       "       'brown-stem-rot', 'frog-eye-leaf-spot', 'brown-spot',\n",
       "       'phytophthora-rot', 'downy-mildew', 'brown-stem-rot', 'brown-spot',\n",
       "       'alternarialeaf-spot', 'brown-spot', 'charcoal-rot',\n",
       "       'diaporthe-pod-&-stem-blight', 'alternarialeaf-spot',\n",
       "       'bacterial-pustule', 'charcoal-rot', '2-4-d-injury',\n",
       "       'phytophthora-rot', 'brown-stem-rot', 'frog-eye-leaf-spot',\n",
       "       'phytophthora-rot', 'frog-eye-leaf-spot', '2-4-d-injury',\n",
       "       'bacterial-pustule', 'phytophthora-rot',\n",
       "       'diaporthe-pod-&-stem-blight', 'anthracnose', 'brown-spot',\n",
       "       'brown-spot', 'brown-spot', 'diaporthe-stem-canker',\n",
       "       'downy-mildew', '2-4-d-injury', 'phytophthora-rot',\n",
       "       'diaporthe-stem-canker', 'downy-mildew', 'cyst-nematode',\n",
       "       'brown-stem-rot', 'powdery-mildew', 'frog-eye-leaf-spot',\n",
       "       'brown-stem-rot', 'alternarialeaf-spot', 'cyst-nematode',\n",
       "       'phytophthora-rot', 'anthracnose', 'phytophthora-rot',\n",
       "       'phytophthora-rot', 'brown-spot', 'alternarialeaf-spot',\n",
       "       'phytophthora-rot', 'brown-stem-rot', 'phyllosticta-leaf-spot',\n",
       "       'bacterial-blight', 'alternarialeaf-spot', 'brown-spot',\n",
       "       'anthracnose', 'bacterial-blight', 'alternarialeaf-spot',\n",
       "       'anthracnose', 'phytophthora-rot', 'frog-eye-leaf-spot',\n",
       "       'phytophthora-rot', 'rhizoctonia-root-rot', 'brown-spot',\n",
       "       'phytophthora-rot', 'herbicide-injury', 'frog-eye-leaf-spot',\n",
       "       'diaporthe-stem-canker', 'alternarialeaf-spot', 'phytophthora-rot',\n",
       "       'frog-eye-leaf-spot', 'bacterial-pustule', 'alternarialeaf-spot',\n",
       "       'phytophthora-rot', 'rhizoctonia-root-rot', 'herbicide-injury',\n",
       "       'anthracnose', 'brown-stem-rot', 'anthracnose',\n",
       "       'diaporthe-pod-&-stem-blight', 'alternarialeaf-spot',\n",
       "       'frog-eye-leaf-spot', 'anthracnose', 'bacterial-pustule',\n",
       "       'phytophthora-rot', 'frog-eye-leaf-spot', 'downy-mildew',\n",
       "       'anthracnose', 'phytophthora-rot', '2-4-d-injury',\n",
       "       'alternarialeaf-spot', 'bacterial-pustule', 'frog-eye-leaf-spot',\n",
       "       'alternarialeaf-spot', 'alternarialeaf-spot', 'charcoal-rot',\n",
       "       'rhizoctonia-root-rot', 'brown-stem-rot', 'frog-eye-leaf-spot',\n",
       "       'frog-eye-leaf-spot', 'frog-eye-leaf-spot', 'brown-stem-rot',\n",
       "       'phytophthora-rot', 'frog-eye-leaf-spot', 'frog-eye-leaf-spot'],\n",
       "      dtype=object)"
      ]
     },
     "execution_count": 9,
     "metadata": {},
     "output_type": "execute_result"
    }
   ],
   "execution_count": 9
  },
  {
   "metadata": {
    "ExecuteTime": {
     "end_time": "2024-11-18T12:16:43.063690Z",
     "start_time": "2024-11-18T12:16:43.053753Z"
    }
   },
   "cell_type": "code",
   "source": "print(classification_report(y_test, y_pred))",
   "id": "56900e1dfa198568",
   "outputs": [
    {
     "name": "stdout",
     "output_type": "stream",
     "text": [
      "                             precision    recall  f1-score   support\n",
      "\n",
      "               2-4-d-injury       1.00      1.00      1.00         5\n",
      "        alternarialeaf-spot       0.81      0.72      0.76        18\n",
      "                anthracnose       1.00      1.00      1.00        10\n",
      "           bacterial-blight       1.00      0.75      0.86         4\n",
      "          bacterial-pustule       1.00      1.00      1.00         6\n",
      "                 brown-spot       0.93      0.93      0.93        14\n",
      "             brown-stem-rot       1.00      1.00      1.00        10\n",
      "               charcoal-rot       1.00      1.00      1.00         4\n",
      "              cyst-nematode       1.00      1.00      1.00         2\n",
      "diaporthe-pod-&-stem-blight       0.83      1.00      0.91         5\n",
      "      diaporthe-stem-canker       1.00      1.00      1.00         4\n",
      "               downy-mildew       1.00      1.00      1.00         4\n",
      "         frog-eye-leaf-spot       0.63      0.80      0.71        15\n",
      "           herbicide-injury       1.00      1.00      1.00         3\n",
      "     phyllosticta-leaf-spot       1.00      0.50      0.67         2\n",
      "           phytophthora-rot       1.00      1.00      1.00        22\n",
      "             powdery-mildew       1.00      1.00      1.00         2\n",
      "          purple-seed-stain       1.00      0.50      0.67         2\n",
      "       rhizoctonia-root-rot       1.00      1.00      1.00         5\n",
      "\n",
      "                   accuracy                           0.91       137\n",
      "                  macro avg       0.96      0.91      0.92       137\n",
      "               weighted avg       0.92      0.91      0.91       137\n",
      "\n"
     ]
    }
   ],
   "execution_count": 13
  },
  {
   "metadata": {
    "ExecuteTime": {
     "end_time": "2024-11-18T12:16:47.719381Z",
     "start_time": "2024-11-18T12:16:47.716820Z"
    }
   },
   "cell_type": "code",
   "source": [
    "print(\n",
    "    {\n",
    "        \"accuracy\": test_accuracy,\n",
    "        \"precision\": test_precision,\n",
    "        \"recall\": recall,\n",
    "        \"f1\": f1,\n",
    "        \"conf_matrix\": conf_matrix\n",
    "    }\n",
    ")"
   ],
   "id": "2ede7df8b73d772a",
   "outputs": [
    {
     "name": "stdout",
     "output_type": "stream",
     "text": [
      "{'accuracy': 0.9124087591240876, 'precision': np.float64(0.958209668909115), 'recall': np.float64(0.9053049289891394), 'f1': np.float64(0.920985619128034), 'conf_matrix': array([[ 5,  0,  0,  0,  0,  0,  0,  0,  0,  0,  0,  0,  0,  0,  0,  0,\n",
      "         0,  0,  0],\n",
      "       [ 0, 13,  0,  0,  0,  0,  0,  0,  0,  0,  0,  0,  5,  0,  0,  0,\n",
      "         0,  0,  0],\n",
      "       [ 0,  0, 10,  0,  0,  0,  0,  0,  0,  0,  0,  0,  0,  0,  0,  0,\n",
      "         0,  0,  0],\n",
      "       [ 0,  0,  0,  3,  0,  0,  0,  0,  0,  0,  0,  0,  1,  0,  0,  0,\n",
      "         0,  0,  0],\n",
      "       [ 0,  0,  0,  0,  6,  0,  0,  0,  0,  0,  0,  0,  0,  0,  0,  0,\n",
      "         0,  0,  0],\n",
      "       [ 0,  0,  0,  0,  0, 13,  0,  0,  0,  0,  0,  0,  1,  0,  0,  0,\n",
      "         0,  0,  0],\n",
      "       [ 0,  0,  0,  0,  0,  0, 10,  0,  0,  0,  0,  0,  0,  0,  0,  0,\n",
      "         0,  0,  0],\n",
      "       [ 0,  0,  0,  0,  0,  0,  0,  4,  0,  0,  0,  0,  0,  0,  0,  0,\n",
      "         0,  0,  0],\n",
      "       [ 0,  0,  0,  0,  0,  0,  0,  0,  2,  0,  0,  0,  0,  0,  0,  0,\n",
      "         0,  0,  0],\n",
      "       [ 0,  0,  0,  0,  0,  0,  0,  0,  0,  5,  0,  0,  0,  0,  0,  0,\n",
      "         0,  0,  0],\n",
      "       [ 0,  0,  0,  0,  0,  0,  0,  0,  0,  0,  4,  0,  0,  0,  0,  0,\n",
      "         0,  0,  0],\n",
      "       [ 0,  0,  0,  0,  0,  0,  0,  0,  0,  0,  0,  4,  0,  0,  0,  0,\n",
      "         0,  0,  0],\n",
      "       [ 0,  2,  0,  0,  0,  0,  0,  0,  0,  1,  0,  0, 12,  0,  0,  0,\n",
      "         0,  0,  0],\n",
      "       [ 0,  0,  0,  0,  0,  0,  0,  0,  0,  0,  0,  0,  0,  3,  0,  0,\n",
      "         0,  0,  0],\n",
      "       [ 0,  0,  0,  0,  0,  1,  0,  0,  0,  0,  0,  0,  0,  0,  1,  0,\n",
      "         0,  0,  0],\n",
      "       [ 0,  0,  0,  0,  0,  0,  0,  0,  0,  0,  0,  0,  0,  0,  0, 22,\n",
      "         0,  0,  0],\n",
      "       [ 0,  0,  0,  0,  0,  0,  0,  0,  0,  0,  0,  0,  0,  0,  0,  0,\n",
      "         2,  0,  0],\n",
      "       [ 0,  1,  0,  0,  0,  0,  0,  0,  0,  0,  0,  0,  0,  0,  0,  0,\n",
      "         0,  1,  0],\n",
      "       [ 0,  0,  0,  0,  0,  0,  0,  0,  0,  0,  0,  0,  0,  0,  0,  0,\n",
      "         0,  0,  5]])}\n"
     ]
    }
   ],
   "execution_count": 15
  }
 ],
 "metadata": {
  "kernelspec": {
   "display_name": "Python 3",
   "language": "python",
   "name": "python3"
  },
  "language_info": {
   "codemirror_mode": {
    "name": "ipython",
    "version": 2
   },
   "file_extension": ".py",
   "mimetype": "text/x-python",
   "name": "python",
   "nbconvert_exporter": "python",
   "pygments_lexer": "ipython2",
   "version": "2.7.6"
  }
 },
 "nbformat": 4,
 "nbformat_minor": 5
}
